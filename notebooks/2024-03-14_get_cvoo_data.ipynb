{
 "cells": [
  {
   "cell_type": "code",
   "execution_count": 1,
   "id": "138aef4f-55bb-44c7-903d-49ad9cbd88a6",
   "metadata": {},
   "outputs": [],
   "source": [
    "# parameters\n",
    "input_list_url = \"https://docs.google.com/spreadsheets/d/e/2PACX-1vTzDLpI4ihCeOT23C9nQugFoHCmisksSYAabGh7-2YI-_0AlE7GGaqJ3igG49yeFfWoC3QmM2BS9P32/pub?output=csv\"\n",
    "output_dir = \"/home/jovyan/shared_materials/challenge_2_data/cvoo/\""
   ]
  },
  {
   "cell_type": "code",
   "execution_count": 2,
   "id": "44a6c2c0-d4c2-4690-8e34-fee2e94b2395",
   "metadata": {},
   "outputs": [],
   "source": [
    "import pandas as pd\n",
    "from pathlib import Path\n",
    "import tqdm\n",
    "\n",
    "import pangaeapy"
   ]
  },
  {
   "cell_type": "code",
   "execution_count": 3,
   "id": "ff018f9f-676b-4015-98c7-793591a07867",
   "metadata": {},
   "outputs": [
    {
     "data": {
      "text/html": [
       "<div>\n",
       "<style scoped>\n",
       "    .dataframe tbody tr th:only-of-type {\n",
       "        vertical-align: middle;\n",
       "    }\n",
       "\n",
       "    .dataframe tbody tr th {\n",
       "        vertical-align: top;\n",
       "    }\n",
       "\n",
       "    .dataframe thead th {\n",
       "        text-align: right;\n",
       "    }\n",
       "</style>\n",
       "<table border=\"1\" class=\"dataframe\">\n",
       "  <thead>\n",
       "    <tr style=\"text-align: right;\">\n",
       "      <th></th>\n",
       "      <th>Short name</th>\n",
       "      <th>Long name</th>\n",
       "      <th>DOI or handle</th>\n",
       "      <th>URL</th>\n",
       "    </tr>\n",
       "  </thead>\n",
       "  <tbody>\n",
       "    <tr>\n",
       "      <th>0</th>\n",
       "      <td>CVOO Karstensen 2016</td>\n",
       "      <td>Physical oceanography from CVOO mooring KPO_1006</td>\n",
       "      <td>https://doi.org/10.1594/PANGAEA.861222</td>\n",
       "      <td>https://doi.pangaea.de/10.1594/PANGAEA.861222</td>\n",
       "    </tr>\n",
       "    <tr>\n",
       "      <th>1</th>\n",
       "      <td>CVOO Lange 2023</td>\n",
       "      <td>Biogeochemical sample data 2006 - 2019</td>\n",
       "      <td>https://doi.org/10.1594/PANGAEA.958597</td>\n",
       "      <td>https://doi.pangaea.de/10.1594/PANGAEA.958597</td>\n",
       "    </tr>\n",
       "    <tr>\n",
       "      <th>2</th>\n",
       "      <td>CVOO Karstensen 2019</td>\n",
       "      <td>Physical oceanography from mooring KPO_1128</td>\n",
       "      <td>https://doi.org/10.1594/PANGAEA.908822</td>\n",
       "      <td>NaN</td>\n",
       "    </tr>\n",
       "    <tr>\n",
       "      <th>3</th>\n",
       "      <td>CVOO Karstensen 2016a</td>\n",
       "      <td>Physical oceanography from CVOO mooring KPO_1028</td>\n",
       "      <td>https://doi.org/10.1594/PANGAEA.861223</td>\n",
       "      <td>NaN</td>\n",
       "    </tr>\n",
       "    <tr>\n",
       "      <th>4</th>\n",
       "      <td>CVOO Karstensen 2016b</td>\n",
       "      <td>Physical oceanography from CVOO mooring KPO_1041</td>\n",
       "      <td>https://doi.org/10.1594/PANGAEA.861224</td>\n",
       "      <td>NaN</td>\n",
       "    </tr>\n",
       "    <tr>\n",
       "      <th>5</th>\n",
       "      <td>CVOO Karstensen 2016c</td>\n",
       "      <td>Physical oceanography from CVOO mooring KPO_1060</td>\n",
       "      <td>https://doi.org/10.1594/PANGAEA.861315</td>\n",
       "      <td>NaN</td>\n",
       "    </tr>\n",
       "    <tr>\n",
       "      <th>6</th>\n",
       "      <td>CVOO Karstensen 2016d</td>\n",
       "      <td>Physical oceanography from CVOO mooring KPO_1094</td>\n",
       "      <td>https://doi.org/10.1594/PANGAEA.861316</td>\n",
       "      <td>NaN</td>\n",
       "    </tr>\n",
       "    <tr>\n",
       "      <th>7</th>\n",
       "      <td>CVOO Karstensen 2020</td>\n",
       "      <td>Physical oceanography from mooring KPO_1143</td>\n",
       "      <td>https://doi.org/10.1594/PANGAEA.924249</td>\n",
       "      <td>NaN</td>\n",
       "    </tr>\n",
       "  </tbody>\n",
       "</table>\n",
       "</div>"
      ],
      "text/plain": [
       "              Short name                                         Long name  \\\n",
       "0   CVOO Karstensen 2016  Physical oceanography from CVOO mooring KPO_1006   \n",
       "1        CVOO Lange 2023            Biogeochemical sample data 2006 - 2019   \n",
       "2   CVOO Karstensen 2019       Physical oceanography from mooring KPO_1128   \n",
       "3  CVOO Karstensen 2016a  Physical oceanography from CVOO mooring KPO_1028   \n",
       "4  CVOO Karstensen 2016b  Physical oceanography from CVOO mooring KPO_1041   \n",
       "5  CVOO Karstensen 2016c  Physical oceanography from CVOO mooring KPO_1060   \n",
       "6  CVOO Karstensen 2016d  Physical oceanography from CVOO mooring KPO_1094   \n",
       "7   CVOO Karstensen 2020       Physical oceanography from mooring KPO_1143   \n",
       "\n",
       "                            DOI or handle  \\\n",
       "0  https://doi.org/10.1594/PANGAEA.861222   \n",
       "1  https://doi.org/10.1594/PANGAEA.958597   \n",
       "2  https://doi.org/10.1594/PANGAEA.908822   \n",
       "3  https://doi.org/10.1594/PANGAEA.861223   \n",
       "4  https://doi.org/10.1594/PANGAEA.861224   \n",
       "5  https://doi.org/10.1594/PANGAEA.861315   \n",
       "6  https://doi.org/10.1594/PANGAEA.861316   \n",
       "7  https://doi.org/10.1594/PANGAEA.924249   \n",
       "\n",
       "                                             URL  \n",
       "0  https://doi.pangaea.de/10.1594/PANGAEA.861222  \n",
       "1  https://doi.pangaea.de/10.1594/PANGAEA.958597  \n",
       "2                                            NaN  \n",
       "3                                            NaN  \n",
       "4                                            NaN  \n",
       "5                                            NaN  \n",
       "6                                            NaN  \n",
       "7                                            NaN  "
      ]
     },
     "execution_count": 3,
     "metadata": {},
     "output_type": "execute_result"
    }
   ],
   "source": [
    "df_cvoo_datasets = pd.read_csv(\n",
    "    \"https://docs.google.com/spreadsheets/d/e/\"\n",
    "    \"2PACX-1vTzDLpI4ihCeOT23C9nQugFoHCmisksSYAabGh7-2YI-_0AlE7GGaqJ3igG49yeFfWoC3QmM2BS9P32/pub?output=csv\"\n",
    ")\n",
    "df_cvoo_datasets"
   ]
  },
  {
   "cell_type": "code",
   "execution_count": 4,
   "id": "10e29527-b6fe-434e-92c0-c7055d035527",
   "metadata": {},
   "outputs": [
    {
     "name": "stderr",
     "output_type": "stream",
     "text": [
      "100%|██████████| 8/8 [03:29<00:00, 26.19s/it]\n"
     ]
    }
   ],
   "source": [
    "for doi in tqdm.tqdm(df_cvoo_datasets[\"DOI or handle\"]):\n",
    "    # skip embargoed data\n",
    "    if \"958597\" in doi:\n",
    "        continue\n",
    "    try:\n",
    "        _df = pangaeapy.PanDataSet(doi).data\n",
    "        _df.to_csv(Path(output_dir) / f'{doi.split(\"/\")[-1]}.tab')\n",
    "    except:\n",
    "        pass"
   ]
  }
 ],
 "metadata": {
  "kernelspec": {
   "display_name": "Python 3 (ipykernel)",
   "language": "python",
   "name": "python3"
  },
  "language_info": {
   "codemirror_mode": {
    "name": "ipython",
    "version": 3
   },
   "file_extension": ".py",
   "mimetype": "text/x-python",
   "name": "python",
   "nbconvert_exporter": "python",
   "pygments_lexer": "ipython3",
   "version": "3.11.6"
  }
 },
 "nbformat": 4,
 "nbformat_minor": 5
}
